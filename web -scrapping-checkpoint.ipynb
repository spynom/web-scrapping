{
 "cells": [
  {
   "cell_type": "code",
   "execution_count": 1,
   "metadata": {},
   "outputs": [],
   "source": [
    "#importing libabiries\n",
    "import requests\n",
    "from bs4 import BeautifulSoup\n",
    "import pandas as pd\n",
    "import numpy as np"
   ]
  },
  {
   "cell_type": "code",
   "execution_count": 2,
   "metadata": {},
   "outputs": [],
   "source": [
    "#requesting an HTML file from \"https://www.chess.com/ratings?page=1https://www.chess.com/ratings?page=1\"\n",
    "website1=requests.get(\"https://www.chess.com/ratings?page=1https://www.chess.com/ratings?page=1\").text"
   ]
  },
  {
   "cell_type": "code",
   "execution_count": 3,
   "metadata": {},
   "outputs": [],
   "source": [
    "#passing the HTML file to Beautiful soup\n",
    "soup=BeautifulSoup(website1,'lxml')"
   ]
  },
  {
   "cell_type": "code",
   "execution_count": 5,
   "metadata": {},
   "outputs": [
    {
     "data": {
      "text/plain": [
       "'Magnus Carlsen'"
      ]
     },
     "execution_count": 5,
     "metadata": {},
     "output_type": "execute_result"
    }
   ],
   "source": [
    "#to get the name of player one from the HTML file\n",
    "soup.find_all(\"tr\")[1].find(\"a\",class_=\"master-players-rating-username\").text.strip()"
   ]
  },
  {
   "cell_type": "code",
   "execution_count": 6,
   "metadata": {},
   "outputs": [
    {
     "data": {
      "text/plain": [
       "'GM'"
      ]
     },
     "execution_count": 6,
     "metadata": {},
     "output_type": "execute_result"
    }
   ],
   "source": [
    "#to get the title of the player one in the chess from the HTML file\n",
    "soup.find_all(\"tr\")[1].find(\"div\",class_=\"user-chess-title master-players-rating-user-title\").find(\"span\").text"
   ]
  },
  {
   "cell_type": "code",
   "execution_count": 7,
   "metadata": {},
   "outputs": [
    {
     "data": {
      "text/plain": [
       "'2830'"
      ]
     },
     "execution_count": 7,
     "metadata": {},
     "output_type": "execute_result"
    }
   ],
   "source": [
    "#to get classical points\n",
    "soup.find_all(\"tr\")[1].find(\"div\",class_=\"master-players-rating-player-rank master-players-rating-rank-active\").text.strip()"
   ]
  },
  {
   "cell_type": "code",
   "execution_count": 8,
   "metadata": {},
   "outputs": [
    {
     "data": {
      "text/plain": [
       "[<div class=\"master-players-rating-player-rank master-players-rating-rank-active\">\n",
       "                     2830\n",
       "                   </div>,\n",
       " <div class=\"master-players-rating-player-rank\">\n",
       "                     2823\n",
       "                   </div>,\n",
       " <div class=\"master-players-rating-player-rank\">\n",
       "                     2886\n",
       "                   </div>]"
      ]
     },
     "execution_count": 8,
     "metadata": {},
     "output_type": "execute_result"
    }
   ],
   "source": [
    "#to get classical points, rapid point, blitz point\n",
    "soup.find_all(\"tr\")[1].find_all(\"div\",class_=\"master-players-rating-player-rank\")"
   ]
  },
  {
   "cell_type": "code",
   "execution_count": 9,
   "metadata": {},
   "outputs": [
    {
     "data": {
      "text/plain": [
       "'1'"
      ]
     },
     "execution_count": 9,
     "metadata": {},
     "output_type": "execute_result"
    }
   ],
   "source": [
    "#to get the rank of player one\n",
    "soup.find_all(\"tr\")[1].find(\"div\",class_=\"master-players-rating-rank\").text.strip().split(\"#\")[-1]"
   ]
  },
  {
   "cell_type": "code",
   "execution_count": 10,
   "metadata": {},
   "outputs": [],
   "source": [
    "# an sequence of codes to generate lists with rank, name, classical, rapid & blitz of 2499 players\n",
    "rank=[]\n",
    "Name=[]\n",
    "classical=[]\n",
    "Rapid=[]\n",
    "Blitz=[]\n",
    "for page in range(1,51):\n",
    "    page_=requests.get(\"https://www.chess.com/ratings?page={}\".format(page)).text\n",
    "    soup=BeautifulSoup(page_,'lxml')\n",
    "    \n",
    "    for player_block in soup.find_all(\"tr\"):\n",
    "        try:\n",
    "            Name.append(player_block.find(\"a\",class_=\"master-players-rating-username\").text.strip())\n",
    "            rank.append(player_block.find(\"div\",class_=\"master-players-rating-rank\").text.strip().split(\"#\")[-1])\n",
    "            \n",
    "            \n",
    "            \n",
    "            \n",
    "            points_lis=[]\n",
    "            for points in player_block.find_all(\"div\",class_=\"master-players-rating-player-rank\"):\n",
    "                points_lis.append(points.text.strip())\n",
    "            classical.append(points_lis[0])\n",
    "            Rapid.append(points_lis[1])\n",
    "            Blitz.append(points_lis[2])\n",
    "        except:\n",
    "            pass"
   ]
  },
  {
   "cell_type": "code",
   "execution_count": 11,
   "metadata": {},
   "outputs": [
    {
     "name": "stdout",
     "output_type": "stream",
     "text": [
      "2499\n",
      "2499\n",
      "2499\n",
      "2499\n",
      "2499\n"
     ]
    }
   ],
   "source": [
    "print(len(Name))\n",
    "print(len(Name))\n",
    "print(len(classical))\n",
    "print(len(Rapid))\n",
    "print(len(Blitz))"
   ]
  },
  {
   "cell_type": "code",
   "execution_count": 13,
   "metadata": {},
   "outputs": [],
   "source": [
    "#creating data_frame from lists with the help of pandas module\n",
    "data_set=pd.DataFrame({\"rank\":rank,\"Name\":Name,\"classical\":classical,\"Rapid\":Rapid,\"Blitz\":Blitz})"
   ]
  },
  {
   "cell_type": "code",
   "execution_count": 14,
   "metadata": {},
   "outputs": [],
   "source": [
    "# savind data into chess_player.csv\n",
    "data_set.to_csv('chess_player.csv',index=False)\n",
    "data_set.to_excel('chess_player.xlsx',index=False)"
   ]
  },
  {
   "cell_type": "code",
   "execution_count": null,
   "metadata": {},
   "outputs": [],
   "source": []
  }
 ],
 "metadata": {
  "kernelspec": {
   "display_name": "Python 3 (ipykernel)",
   "language": "python",
   "name": "python3"
  },
  "language_info": {
   "codemirror_mode": {
    "name": "ipython",
    "version": 3
   },
   "file_extension": ".py",
   "mimetype": "text/x-python",
   "name": "python",
   "nbconvert_exporter": "python",
   "pygments_lexer": "ipython3",
   "version": "3.11.2"
  }
 },
 "nbformat": 4,
 "nbformat_minor": 4
}
